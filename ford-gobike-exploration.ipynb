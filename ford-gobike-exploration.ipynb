{
 "cells": [
  {
   "cell_type": "markdown",
   "metadata": {},
   "source": [
    "# Ford GoBike Data  - Exploratory Analysis\n",
    "\n",
    "In our modern age with modern technology and transportation, cars aren't the only way to get around anymore. In addition to things like the rise of scooters like Lime, bike sharing has also become a recent thing in certain geographical locations. Throughout this project, we'll be specifically looking at data related to Ford GoBike. We'll look at gleaning some insights across several observations and looking at them with some data visualizations.\n",
    "\n",
    "As the name of [Ford GoBike was changed into Bay-Wheels](https://www.nbcbayarea.com/news/local/lyft-rebrands-ford-gobikes-as-baywheels-launches-new-bikes-in-sj/155964/) in April 2019, I will try to tune the data according to baywheels data, and then analyze it.\n"
   ]
  },
  {
   "cell_type": "markdown",
   "metadata": {},
   "source": [
    "## Table of Contents\n",
    "\n",
    "\n",
    "<ul>\n",
    "<li><a href=\"#gather\">I. Gathering the Data</a></li>\n",
    "<li><a href=\"#clean\">II. Cleaning the Data</a></li>\n",
    "<li><a href=\"#uni\">III. Univariate Exploration</a></li>\n",
    "<li><a href=\"#bi\">IV. Bivariate Exploration</a></li> \n",
    "<li><a href=\"#multi\">V. Multivariate Exploration</a></li>\n",
    "</ul>"
   ]
  },
  {
   "cell_type": "code",
   "execution_count": 1,
   "metadata": {},
   "outputs": [],
   "source": [
    "#Importing packages\n",
    "import numpy as np\n",
    "import pandas as pd\n",
    "import matplotlib.pyplot as plt\n",
    "import seaborn as sb\n",
    "import os\n",
    "import requests\n",
    "from io import BytesIO\n",
    "from zipfile import ZipFile"
   ]
  },
  {
   "cell_type": "markdown",
   "metadata": {},
   "source": [
    "<a id='gather'></a>\n",
    "## Gathering the Data\n",
    "\n",
    "In this section, we'll be gathering the data. \n",
    "\n",
    "We'll be systematically downloading the data from ford and comibine it all together to get some insight from it."
   ]
  },
  {
   "cell_type": "code",
   "execution_count": null,
   "metadata": {},
   "outputs": [],
   "source": [
    "#Creating the file for storing our data\n",
    "os.makedirs('lyft-data')"
   ]
  },
  {
   "cell_type": "code",
   "execution_count": null,
   "metadata": {},
   "outputs": [],
   "source": [
    "#Downloading the 2017 dataset separately\n",
    "url2017 = 'https://s3.amazonaws.com/fordgobike-data/2017-fordgobike-tripdata.csv'\n",
    "response2017 = requests.get(url2017)\n",
    "\n",
    "with open(os.path.join('lyft-data', url2017.split('/')[-1]), mode = 'wb') as file:\n",
    "    file.write(response2017.content)"
   ]
  },
  {
   "cell_type": "code",
   "execution_count": null,
   "metadata": {},
   "outputs": [],
   "source": [
    "#Downloading the data after 2017\n",
    "urls = ['https://s3.amazonaws.com/fordgobike-data/201801-fordgobike-tripdata.csv.zip',\n",
    "        'https://s3.amazonaws.com/fordgobike-data/201802-fordgobike-tripdata.csv.zip',\n",
    "        'https://s3.amazonaws.com/fordgobike-data/201803-fordgobike-tripdata.csv.zip',\n",
    "        'https://s3.amazonaws.com/fordgobike-data/201804-fordgobike-tripdata.csv.zip',\n",
    "        'https://s3.amazonaws.com/fordgobike-data/201805-fordgobike-tripdata.csv.zip',\n",
    "        'https://s3.amazonaws.com/fordgobike-data/201806-fordgobike-tripdata.csv.zip',\n",
    "        'https://s3.amazonaws.com/fordgobike-data/201807-fordgobike-tripdata.csv.zip',\n",
    "        'https://s3.amazonaws.com/fordgobike-data/201808-fordgobike-tripdata.csv.zip',\n",
    "        'https://s3.amazonaws.com/fordgobike-data/201809-fordgobike-tripdata.csv.zip',\n",
    "        'https://s3.amazonaws.com/fordgobike-data/201810-fordgobike-tripdata.csv.zip',\n",
    "        'https://s3.amazonaws.com/fordgobike-data/201811-fordgobike-tripdata.csv.zip',\n",
    "        'https://s3.amazonaws.com/fordgobike-data/201812-fordgobike-tripdata.csv.zip',\n",
    "        'https://s3.amazonaws.com/fordgobike-data/201901-fordgobike-tripdata.csv.zip',\n",
    "        'https://s3.amazonaws.com/fordgobike-data/201902-fordgobike-tripdata.csv.zip',\n",
    "        'https://s3.amazonaws.com/fordgobike-data/201903-fordgobike-tripdata.csv.zip',\n",
    "        'https://s3.amazonaws.com/fordgobike-data/201904-fordgobike-tripdata.csv.zip',\n",
    "        'https://s3.amazonaws.com/baywheels-data/201905-baywheels-tripdata.csv.zip',\n",
    "        'https://s3.amazonaws.com/baywheels-data/201906-baywheels-tripdata.csv.zip',\n",
    "        'https://s3.amazonaws.com/baywheels-data/201907-baywheels-tripdata.csv.zip',\n",
    "        'https://s3.amazonaws.com/baywheels-data/201908-baywheels-tripdata.csv.zip',\n",
    "        'https://s3.amazonaws.com/baywheels-data/201909-baywheels-tripdata.csv.zip',\n",
    "        'https://s3.amazonaws.com/baywheels-data/201910-baywheels-tripdata.csv.zip',\n",
    "        'https://s3.amazonaws.com/baywheels-data/201911-baywheels-tripdata.csv.zip',\n",
    "        'https://s3.amazonaws.com/baywheels-data/201912-baywheels-tripdata.csv.zip',\n",
    "        'https://s3.amazonaws.com/baywheels-data/202001-baywheels-tripdata.csv.zip',\n",
    "        'https://s3.amazonaws.com/baywheels-data/202002-baywheels-tripdata.csv.zip',\n",
    "        'https://s3.amazonaws.com/baywheels-data/202003-baywheels-tripdata.csv.zip']\n",
    "\n",
    "for url in urls:\n",
    "    response = requests.get(url)\n",
    "    zip_file = ZipFile(BytesIO(response.content))\n",
    "    zip_file.extractall('lyft-data')"
   ]
  },
  {
   "cell_type": "markdown",
   "metadata": {},
   "source": [
    "### Exploring dataset \n",
    "after and before the change of tha name from **Ford Go bike to BayWheels**"
   ]
  },
  {
   "cell_type": "markdown",
   "metadata": {},
   "source": [
    "#### Ford Go Bike"
   ]
  },
  {
   "cell_type": "code",
   "execution_count": null,
   "metadata": {},
   "outputs": [],
   "source": [
    "#Congregating all the Ford Go Bike datasets\n",
    "path = r'lyft-data/fordgobike'\n",
    "raw_dfs = []\n",
    "\n",
    "for file in os.listdir(path):\n",
    "    raw_dfs.append(pd.read_csv(path + '/' + file))"
   ]
  },
  {
   "cell_type": "code",
   "execution_count": null,
   "metadata": {},
   "outputs": [],
   "source": [
    "#Combining the datasets together into a single dataframe\n",
    "df = pd.concat(raw_dfs, sort=False)"
   ]
  },
  {
   "cell_type": "code",
   "execution_count": null,
   "metadata": {},
   "outputs": [],
   "source": [
    "#Saving combined dataframe into a new file \n",
    "df.to_csv('lyft-data/fordgobike/fordgobike-combined.csv', index = False)"
   ]
  },
  {
   "cell_type": "code",
   "execution_count": 2,
   "metadata": {},
   "outputs": [
    {
     "name": "stderr",
     "output_type": "stream",
     "text": [
      "/opt/anaconda3/lib/python3.7/site-packages/IPython/core/interactiveshell.py:3063: DtypeWarning: Columns (15) have mixed types.Specify dtype option on import or set low_memory=False.\n",
      "  interactivity=interactivity, compiler=compiler, result=result)\n"
     ]
    }
   ],
   "source": [
    "#Creating the dataframe after combining all dataset \n",
    "ford_df = pd.read_csv('lyft-data/fordgobike/fordgobike-combined.csv')"
   ]
  },
  {
   "cell_type": "code",
   "execution_count": 3,
   "metadata": {},
   "outputs": [
    {
     "data": {
      "text/html": [
       "<div>\n",
       "<style scoped>\n",
       "    .dataframe tbody tr th:only-of-type {\n",
       "        vertical-align: middle;\n",
       "    }\n",
       "\n",
       "    .dataframe tbody tr th {\n",
       "        vertical-align: top;\n",
       "    }\n",
       "\n",
       "    .dataframe thead th {\n",
       "        text-align: right;\n",
       "    }\n",
       "</style>\n",
       "<table border=\"1\" class=\"dataframe\">\n",
       "  <thead>\n",
       "    <tr style=\"text-align: right;\">\n",
       "      <th></th>\n",
       "      <th>duration_sec</th>\n",
       "      <th>start_time</th>\n",
       "      <th>end_time</th>\n",
       "      <th>start_station_id</th>\n",
       "      <th>start_station_name</th>\n",
       "      <th>start_station_latitude</th>\n",
       "      <th>start_station_longitude</th>\n",
       "      <th>end_station_id</th>\n",
       "      <th>end_station_name</th>\n",
       "      <th>end_station_latitude</th>\n",
       "      <th>end_station_longitude</th>\n",
       "      <th>bike_id</th>\n",
       "      <th>user_type</th>\n",
       "      <th>member_birth_year</th>\n",
       "      <th>member_gender</th>\n",
       "      <th>bike_share_for_all_trip</th>\n",
       "    </tr>\n",
       "  </thead>\n",
       "  <tbody>\n",
       "    <tr>\n",
       "      <th>0</th>\n",
       "      <td>598</td>\n",
       "      <td>2018-02-28 23:59:47.0970</td>\n",
       "      <td>2018-03-01 00:09:45.1870</td>\n",
       "      <td>284.0</td>\n",
       "      <td>Yerba Buena Center for the Arts (Howard St at ...</td>\n",
       "      <td>37.784872</td>\n",
       "      <td>-122.400876</td>\n",
       "      <td>114.0</td>\n",
       "      <td>Rhode Island St at 17th St</td>\n",
       "      <td>37.764478</td>\n",
       "      <td>-122.402570</td>\n",
       "      <td>1035</td>\n",
       "      <td>Subscriber</td>\n",
       "      <td>1988.0</td>\n",
       "      <td>Male</td>\n",
       "      <td>No</td>\n",
       "    </tr>\n",
       "    <tr>\n",
       "      <th>1</th>\n",
       "      <td>943</td>\n",
       "      <td>2018-02-28 23:21:16.4950</td>\n",
       "      <td>2018-02-28 23:36:59.9740</td>\n",
       "      <td>6.0</td>\n",
       "      <td>The Embarcadero at Sansome St</td>\n",
       "      <td>37.804770</td>\n",
       "      <td>-122.403234</td>\n",
       "      <td>324.0</td>\n",
       "      <td>Union Square (Powell St at Post St)</td>\n",
       "      <td>37.788300</td>\n",
       "      <td>-122.408531</td>\n",
       "      <td>1673</td>\n",
       "      <td>Customer</td>\n",
       "      <td>1987.0</td>\n",
       "      <td>Male</td>\n",
       "      <td>No</td>\n",
       "    </tr>\n",
       "    <tr>\n",
       "      <th>2</th>\n",
       "      <td>18587</td>\n",
       "      <td>2018-02-28 18:20:55.1900</td>\n",
       "      <td>2018-02-28 23:30:42.9250</td>\n",
       "      <td>93.0</td>\n",
       "      <td>4th St at Mission Bay Blvd S</td>\n",
       "      <td>37.770407</td>\n",
       "      <td>-122.391198</td>\n",
       "      <td>15.0</td>\n",
       "      <td>San Francisco Ferry Building (Harry Bridges Pl...</td>\n",
       "      <td>37.795392</td>\n",
       "      <td>-122.394203</td>\n",
       "      <td>3498</td>\n",
       "      <td>Customer</td>\n",
       "      <td>1986.0</td>\n",
       "      <td>Female</td>\n",
       "      <td>No</td>\n",
       "    </tr>\n",
       "    <tr>\n",
       "      <th>3</th>\n",
       "      <td>18558</td>\n",
       "      <td>2018-02-28 18:20:53.6210</td>\n",
       "      <td>2018-02-28 23:30:12.4500</td>\n",
       "      <td>93.0</td>\n",
       "      <td>4th St at Mission Bay Blvd S</td>\n",
       "      <td>37.770407</td>\n",
       "      <td>-122.391198</td>\n",
       "      <td>15.0</td>\n",
       "      <td>San Francisco Ferry Building (Harry Bridges Pl...</td>\n",
       "      <td>37.795392</td>\n",
       "      <td>-122.394203</td>\n",
       "      <td>3129</td>\n",
       "      <td>Customer</td>\n",
       "      <td>1981.0</td>\n",
       "      <td>Male</td>\n",
       "      <td>No</td>\n",
       "    </tr>\n",
       "    <tr>\n",
       "      <th>4</th>\n",
       "      <td>885</td>\n",
       "      <td>2018-02-28 23:15:12.8580</td>\n",
       "      <td>2018-02-28 23:29:58.6080</td>\n",
       "      <td>308.0</td>\n",
       "      <td>San Pedro Square</td>\n",
       "      <td>37.336802</td>\n",
       "      <td>-121.894090</td>\n",
       "      <td>297.0</td>\n",
       "      <td>Locust St at Grant St</td>\n",
       "      <td>37.322980</td>\n",
       "      <td>-121.887931</td>\n",
       "      <td>1839</td>\n",
       "      <td>Subscriber</td>\n",
       "      <td>1976.0</td>\n",
       "      <td>Female</td>\n",
       "      <td>Yes</td>\n",
       "    </tr>\n",
       "  </tbody>\n",
       "</table>\n",
       "</div>"
      ],
      "text/plain": [
       "   duration_sec                start_time                  end_time  \\\n",
       "0           598  2018-02-28 23:59:47.0970  2018-03-01 00:09:45.1870   \n",
       "1           943  2018-02-28 23:21:16.4950  2018-02-28 23:36:59.9740   \n",
       "2         18587  2018-02-28 18:20:55.1900  2018-02-28 23:30:42.9250   \n",
       "3         18558  2018-02-28 18:20:53.6210  2018-02-28 23:30:12.4500   \n",
       "4           885  2018-02-28 23:15:12.8580  2018-02-28 23:29:58.6080   \n",
       "\n",
       "   start_station_id                                 start_station_name  \\\n",
       "0             284.0  Yerba Buena Center for the Arts (Howard St at ...   \n",
       "1               6.0                      The Embarcadero at Sansome St   \n",
       "2              93.0                       4th St at Mission Bay Blvd S   \n",
       "3              93.0                       4th St at Mission Bay Blvd S   \n",
       "4             308.0                                   San Pedro Square   \n",
       "\n",
       "   start_station_latitude  start_station_longitude  end_station_id  \\\n",
       "0               37.784872              -122.400876           114.0   \n",
       "1               37.804770              -122.403234           324.0   \n",
       "2               37.770407              -122.391198            15.0   \n",
       "3               37.770407              -122.391198            15.0   \n",
       "4               37.336802              -121.894090           297.0   \n",
       "\n",
       "                                    end_station_name  end_station_latitude  \\\n",
       "0                         Rhode Island St at 17th St             37.764478   \n",
       "1                Union Square (Powell St at Post St)             37.788300   \n",
       "2  San Francisco Ferry Building (Harry Bridges Pl...             37.795392   \n",
       "3  San Francisco Ferry Building (Harry Bridges Pl...             37.795392   \n",
       "4                              Locust St at Grant St             37.322980   \n",
       "\n",
       "   end_station_longitude  bike_id   user_type  member_birth_year  \\\n",
       "0            -122.402570     1035  Subscriber             1988.0   \n",
       "1            -122.408531     1673    Customer             1987.0   \n",
       "2            -122.394203     3498    Customer             1986.0   \n",
       "3            -122.394203     3129    Customer             1981.0   \n",
       "4            -121.887931     1839  Subscriber             1976.0   \n",
       "\n",
       "  member_gender bike_share_for_all_trip  \n",
       "0          Male                      No  \n",
       "1          Male                      No  \n",
       "2        Female                      No  \n",
       "3          Male                      No  \n",
       "4        Female                     Yes  "
      ]
     },
     "execution_count": 3,
     "metadata": {},
     "output_type": "execute_result"
    }
   ],
   "source": [
    "#Looking at the first five rows of Ford Go bike data\n",
    "ford_df.head()"
   ]
  },
  {
   "cell_type": "code",
   "execution_count": 4,
   "metadata": {},
   "outputs": [
    {
     "data": {
      "text/plain": [
       "(3254325, 16)"
      ]
     },
     "execution_count": 4,
     "metadata": {},
     "output_type": "execute_result"
    }
   ],
   "source": [
    "ford_df.shape"
   ]
  },
  {
   "cell_type": "code",
   "execution_count": 5,
   "metadata": {},
   "outputs": [
    {
     "name": "stdout",
     "output_type": "stream",
     "text": [
      "<class 'pandas.core.frame.DataFrame'>\n",
      "RangeIndex: 3254325 entries, 0 to 3254324\n",
      "Data columns (total 16 columns):\n",
      " #   Column                   Dtype  \n",
      "---  ------                   -----  \n",
      " 0   duration_sec             int64  \n",
      " 1   start_time               object \n",
      " 2   end_time                 object \n",
      " 3   start_station_id         float64\n",
      " 4   start_station_name       object \n",
      " 5   start_station_latitude   float64\n",
      " 6   start_station_longitude  float64\n",
      " 7   end_station_id           float64\n",
      " 8   end_station_name         object \n",
      " 9   end_station_latitude     float64\n",
      " 10  end_station_longitude    float64\n",
      " 11  bike_id                  int64  \n",
      " 12  user_type                object \n",
      " 13  member_birth_year        float64\n",
      " 14  member_gender            object \n",
      " 15  bike_share_for_all_trip  object \n",
      "dtypes: float64(7), int64(2), object(7)\n",
      "memory usage: 397.3+ MB\n"
     ]
    }
   ],
   "source": [
    "ford_df.info()"
   ]
  },
  {
   "cell_type": "code",
   "execution_count": 6,
   "metadata": {},
   "outputs": [
    {
     "data": {
      "text/plain": [
       "array(['No', 'Yes', nan], dtype=object)"
      ]
     },
     "execution_count": 6,
     "metadata": {},
     "output_type": "execute_result"
    }
   ],
   "source": [
    "ford_df.bike_share_for_all_trip.unique()"
   ]
  },
  {
   "cell_type": "markdown",
   "metadata": {},
   "source": [
    "#### Observations:\n",
    "- As we can clearly see, that we have 3254325 rows and 16 columns\n",
    "- We can see that in the last column, we have missing values."
   ]
  },
  {
   "cell_type": "markdown",
   "metadata": {},
   "source": [
    "#### Bay-Wheels"
   ]
  },
  {
   "cell_type": "code",
   "execution_count": null,
   "metadata": {
    "scrolled": true
   },
   "outputs": [],
   "source": [
    "#Congregating all the Ford Go Bike datasets\n",
    "path = r'lyft-data/baywheels'\n",
    "raw_dfs_1 = []\n",
    "\n",
    "for file in os.listdir(path):\n",
    "    raw_dfs_1.append(pd.read_csv(path + '/' + file))"
   ]
  },
  {
   "cell_type": "code",
   "execution_count": null,
   "metadata": {},
   "outputs": [],
   "source": [
    "#Combining the datasets together into a single dataframe\n",
    "df_1 = pd.concat(raw_dfs, sort=False)"
   ]
  },
  {
   "cell_type": "code",
   "execution_count": null,
   "metadata": {},
   "outputs": [],
   "source": [
    "#Saving combined dataframe into a new file \n",
    "df_1.to_csv('lyft-data/baywheels/baywheels-combined_1.csv', index = False)"
   ]
  },
  {
   "cell_type": "code",
   "execution_count": 7,
   "metadata": {},
   "outputs": [
    {
     "name": "stderr",
     "output_type": "stream",
     "text": [
      "/opt/anaconda3/lib/python3.7/site-packages/IPython/core/interactiveshell.py:3063: DtypeWarning: Columns (13,14) have mixed types.Specify dtype option on import or set low_memory=False.\n",
      "  interactivity=interactivity, compiler=compiler, result=result)\n"
     ]
    }
   ],
   "source": [
    "#Creating the dataframe after combining all dataset \n",
    "df_baywheels = pd.read_csv('lyft-data/baywheels/baywheels-combined_1.csv')"
   ]
  },
  {
   "cell_type": "code",
   "execution_count": 8,
   "metadata": {},
   "outputs": [
    {
     "data": {
      "text/html": [
       "<div>\n",
       "<style scoped>\n",
       "    .dataframe tbody tr th:only-of-type {\n",
       "        vertical-align: middle;\n",
       "    }\n",
       "\n",
       "    .dataframe tbody tr th {\n",
       "        vertical-align: top;\n",
       "    }\n",
       "\n",
       "    .dataframe thead th {\n",
       "        text-align: right;\n",
       "    }\n",
       "</style>\n",
       "<table border=\"1\" class=\"dataframe\">\n",
       "  <thead>\n",
       "    <tr style=\"text-align: right;\">\n",
       "      <th></th>\n",
       "      <th>duration_sec</th>\n",
       "      <th>start_time</th>\n",
       "      <th>end_time</th>\n",
       "      <th>start_station_id</th>\n",
       "      <th>start_station_name</th>\n",
       "      <th>start_station_latitude</th>\n",
       "      <th>start_station_longitude</th>\n",
       "      <th>end_station_id</th>\n",
       "      <th>end_station_name</th>\n",
       "      <th>end_station_latitude</th>\n",
       "      <th>end_station_longitude</th>\n",
       "      <th>bike_id</th>\n",
       "      <th>user_type</th>\n",
       "      <th>bike_share_for_all_trip</th>\n",
       "      <th>rental_access_method</th>\n",
       "    </tr>\n",
       "  </thead>\n",
       "  <tbody>\n",
       "    <tr>\n",
       "      <th>0</th>\n",
       "      <td>60863</td>\n",
       "      <td>2019-09-30 11:48:02.7100</td>\n",
       "      <td>2019-10-01 04:42:25.8640</td>\n",
       "      <td>465.0</td>\n",
       "      <td>San Francisco Caltrain Station (King St at 4th...</td>\n",
       "      <td>37.776329</td>\n",
       "      <td>-122.394438</td>\n",
       "      <td>465.0</td>\n",
       "      <td>San Francisco Caltrain Station (King St at 4th...</td>\n",
       "      <td>37.776329</td>\n",
       "      <td>-122.394438</td>\n",
       "      <td>12904</td>\n",
       "      <td>Customer</td>\n",
       "      <td>No</td>\n",
       "      <td>NaN</td>\n",
       "    </tr>\n",
       "    <tr>\n",
       "      <th>1</th>\n",
       "      <td>36019</td>\n",
       "      <td>2019-09-30 16:16:32.3530</td>\n",
       "      <td>2019-10-01 02:16:51.9820</td>\n",
       "      <td>294.0</td>\n",
       "      <td>Pierce Ave at Market St</td>\n",
       "      <td>37.327581</td>\n",
       "      <td>-121.884559</td>\n",
       "      <td>443.0</td>\n",
       "      <td>3rd St at Keyes St</td>\n",
       "      <td>37.320866</td>\n",
       "      <td>-121.876279</td>\n",
       "      <td>163</td>\n",
       "      <td>Customer</td>\n",
       "      <td>No</td>\n",
       "      <td>NaN</td>\n",
       "    </tr>\n",
       "    <tr>\n",
       "      <th>2</th>\n",
       "      <td>5615</td>\n",
       "      <td>2019-09-30 23:12:25.9980</td>\n",
       "      <td>2019-10-01 00:46:01.9590</td>\n",
       "      <td>370.0</td>\n",
       "      <td>Jones St at Post St</td>\n",
       "      <td>37.787327</td>\n",
       "      <td>-122.413278</td>\n",
       "      <td>4.0</td>\n",
       "      <td>Cyril Magnin St at Ellis St</td>\n",
       "      <td>37.785881</td>\n",
       "      <td>-122.408915</td>\n",
       "      <td>10737</td>\n",
       "      <td>Customer</td>\n",
       "      <td>No</td>\n",
       "      <td>NaN</td>\n",
       "    </tr>\n",
       "    <tr>\n",
       "      <th>3</th>\n",
       "      <td>1482</td>\n",
       "      <td>2019-09-30 23:57:34.6630</td>\n",
       "      <td>2019-10-01 00:22:16.8490</td>\n",
       "      <td>109.0</td>\n",
       "      <td>17th St at Valencia St</td>\n",
       "      <td>37.763316</td>\n",
       "      <td>-122.421904</td>\n",
       "      <td>460.0</td>\n",
       "      <td>Terry Francois Blvd at Warriors Way</td>\n",
       "      <td>37.769095</td>\n",
       "      <td>-122.386333</td>\n",
       "      <td>10346</td>\n",
       "      <td>Customer</td>\n",
       "      <td>No</td>\n",
       "      <td>NaN</td>\n",
       "    </tr>\n",
       "    <tr>\n",
       "      <th>4</th>\n",
       "      <td>1272</td>\n",
       "      <td>2019-09-30 23:53:28.6530</td>\n",
       "      <td>2019-10-01 00:14:41.0740</td>\n",
       "      <td>95.0</td>\n",
       "      <td>Sanchez St at 15th St</td>\n",
       "      <td>37.766219</td>\n",
       "      <td>-122.431060</td>\n",
       "      <td>127.0</td>\n",
       "      <td>Valencia St at 21st St</td>\n",
       "      <td>37.756708</td>\n",
       "      <td>-122.421025</td>\n",
       "      <td>1349</td>\n",
       "      <td>Subscriber</td>\n",
       "      <td>No</td>\n",
       "      <td>NaN</td>\n",
       "    </tr>\n",
       "  </tbody>\n",
       "</table>\n",
       "</div>"
      ],
      "text/plain": [
       "   duration_sec                start_time                  end_time  \\\n",
       "0         60863  2019-09-30 11:48:02.7100  2019-10-01 04:42:25.8640   \n",
       "1         36019  2019-09-30 16:16:32.3530  2019-10-01 02:16:51.9820   \n",
       "2          5615  2019-09-30 23:12:25.9980  2019-10-01 00:46:01.9590   \n",
       "3          1482  2019-09-30 23:57:34.6630  2019-10-01 00:22:16.8490   \n",
       "4          1272  2019-09-30 23:53:28.6530  2019-10-01 00:14:41.0740   \n",
       "\n",
       "   start_station_id                                 start_station_name  \\\n",
       "0             465.0  San Francisco Caltrain Station (King St at 4th...   \n",
       "1             294.0                            Pierce Ave at Market St   \n",
       "2             370.0                                Jones St at Post St   \n",
       "3             109.0                             17th St at Valencia St   \n",
       "4              95.0                              Sanchez St at 15th St   \n",
       "\n",
       "   start_station_latitude  start_station_longitude  end_station_id  \\\n",
       "0               37.776329              -122.394438           465.0   \n",
       "1               37.327581              -121.884559           443.0   \n",
       "2               37.787327              -122.413278             4.0   \n",
       "3               37.763316              -122.421904           460.0   \n",
       "4               37.766219              -122.431060           127.0   \n",
       "\n",
       "                                    end_station_name  end_station_latitude  \\\n",
       "0  San Francisco Caltrain Station (King St at 4th...             37.776329   \n",
       "1                                 3rd St at Keyes St             37.320866   \n",
       "2                        Cyril Magnin St at Ellis St             37.785881   \n",
       "3                Terry Francois Blvd at Warriors Way             37.769095   \n",
       "4                             Valencia St at 21st St             37.756708   \n",
       "\n",
       "   end_station_longitude  bike_id   user_type bike_share_for_all_trip  \\\n",
       "0            -122.394438    12904    Customer                      No   \n",
       "1            -121.876279      163    Customer                      No   \n",
       "2            -122.408915    10737    Customer                      No   \n",
       "3            -122.386333    10346    Customer                      No   \n",
       "4            -122.421025     1349  Subscriber                      No   \n",
       "\n",
       "  rental_access_method  \n",
       "0                  NaN  \n",
       "1                  NaN  \n",
       "2                  NaN  \n",
       "3                  NaN  \n",
       "4                  NaN  "
      ]
     },
     "execution_count": 8,
     "metadata": {},
     "output_type": "execute_result"
    }
   ],
   "source": [
    "#Looking at the first five rows of Bay-wheels data\n",
    "df_baywheels.head()"
   ]
  },
  {
   "cell_type": "code",
   "execution_count": 9,
   "metadata": {},
   "outputs": [
    {
     "name": "stdout",
     "output_type": "stream",
     "text": [
      "<class 'pandas.core.frame.DataFrame'>\n",
      "RangeIndex: 2541086 entries, 0 to 2541085\n",
      "Data columns (total 15 columns):\n",
      " #   Column                   Dtype  \n",
      "---  ------                   -----  \n",
      " 0   duration_sec             int64  \n",
      " 1   start_time               object \n",
      " 2   end_time                 object \n",
      " 3   start_station_id         float64\n",
      " 4   start_station_name       object \n",
      " 5   start_station_latitude   float64\n",
      " 6   start_station_longitude  float64\n",
      " 7   end_station_id           float64\n",
      " 8   end_station_name         object \n",
      " 9   end_station_latitude     float64\n",
      " 10  end_station_longitude    float64\n",
      " 11  bike_id                  int64  \n",
      " 12  user_type                object \n",
      " 13  bike_share_for_all_trip  object \n",
      " 14  rental_access_method     object \n",
      "dtypes: float64(6), int64(2), object(7)\n",
      "memory usage: 290.8+ MB\n"
     ]
    }
   ],
   "source": [
    "df_baywheels.info()"
   ]
  },
  {
   "cell_type": "code",
   "execution_count": 10,
   "metadata": {},
   "outputs": [
    {
     "data": {
      "text/plain": [
       "(2541086, 15)"
      ]
     },
     "execution_count": 10,
     "metadata": {},
     "output_type": "execute_result"
    }
   ],
   "source": [
    "df_baywheels.shape"
   ]
  },
  {
   "cell_type": "code",
   "execution_count": 11,
   "metadata": {},
   "outputs": [
    {
     "data": {
      "text/plain": [
       "array([nan, 'app', 'clipper'], dtype=object)"
      ]
     },
     "execution_count": 11,
     "metadata": {},
     "output_type": "execute_result"
    }
   ],
   "source": [
    "df_baywheels.rental_access_method.unique()"
   ]
  },
  {
   "cell_type": "code",
   "execution_count": 12,
   "metadata": {},
   "outputs": [
    {
     "data": {
      "text/plain": [
       "array(['No', 'Yes', nan], dtype=object)"
      ]
     },
     "execution_count": 12,
     "metadata": {},
     "output_type": "execute_result"
    }
   ],
   "source": [
    "df_baywheels.bike_share_for_all_trip.unique()"
   ]
  },
  {
   "cell_type": "code",
   "execution_count": 13,
   "metadata": {},
   "outputs": [
    {
     "data": {
      "text/html": [
       "<div>\n",
       "<style scoped>\n",
       "    .dataframe tbody tr th:only-of-type {\n",
       "        vertical-align: middle;\n",
       "    }\n",
       "\n",
       "    .dataframe tbody tr th {\n",
       "        vertical-align: top;\n",
       "    }\n",
       "\n",
       "    .dataframe thead th {\n",
       "        text-align: right;\n",
       "    }\n",
       "</style>\n",
       "<table border=\"1\" class=\"dataframe\">\n",
       "  <thead>\n",
       "    <tr style=\"text-align: right;\">\n",
       "      <th></th>\n",
       "      <th>duration_sec</th>\n",
       "      <th>start_station_id</th>\n",
       "      <th>start_station_latitude</th>\n",
       "      <th>start_station_longitude</th>\n",
       "      <th>end_station_id</th>\n",
       "      <th>end_station_latitude</th>\n",
       "      <th>end_station_longitude</th>\n",
       "      <th>bike_id</th>\n",
       "    </tr>\n",
       "  </thead>\n",
       "  <tbody>\n",
       "    <tr>\n",
       "      <th>count</th>\n",
       "      <td>2.541086e+06</td>\n",
       "      <td>1.974780e+06</td>\n",
       "      <td>2.541086e+06</td>\n",
       "      <td>2.541086e+06</td>\n",
       "      <td>1.973132e+06</td>\n",
       "      <td>2.541086e+06</td>\n",
       "      <td>2.541086e+06</td>\n",
       "      <td>2.541086e+06</td>\n",
       "    </tr>\n",
       "    <tr>\n",
       "      <th>mean</th>\n",
       "      <td>8.179592e+02</td>\n",
       "      <td>1.559452e+02</td>\n",
       "      <td>3.775680e+01</td>\n",
       "      <td>-1.223507e+02</td>\n",
       "      <td>1.504767e+02</td>\n",
       "      <td>3.775600e+01</td>\n",
       "      <td>-1.223470e+02</td>\n",
       "      <td>1.490188e+05</td>\n",
       "    </tr>\n",
       "    <tr>\n",
       "      <th>std</th>\n",
       "      <td>1.890798e+03</td>\n",
       "      <td>1.314966e+02</td>\n",
       "      <td>1.823561e-01</td>\n",
       "      <td>4.820733e-01</td>\n",
       "      <td>1.303568e+02</td>\n",
       "      <td>2.629458e-01</td>\n",
       "      <td>7.805483e-01</td>\n",
       "      <td>2.592418e+05</td>\n",
       "    </tr>\n",
       "    <tr>\n",
       "      <th>min</th>\n",
       "      <td>6.000000e+01</td>\n",
       "      <td>3.000000e+00</td>\n",
       "      <td>0.000000e+00</td>\n",
       "      <td>-1.225143e+02</td>\n",
       "      <td>3.000000e+00</td>\n",
       "      <td>0.000000e+00</td>\n",
       "      <td>-1.225758e+02</td>\n",
       "      <td>4.000000e+00</td>\n",
       "    </tr>\n",
       "    <tr>\n",
       "      <th>25%</th>\n",
       "      <td>3.710000e+02</td>\n",
       "      <td>5.000000e+01</td>\n",
       "      <td>3.776708e+01</td>\n",
       "      <td>-1.224169e+02</td>\n",
       "      <td>4.300000e+01</td>\n",
       "      <td>3.776719e+01</td>\n",
       "      <td>-1.224148e+02</td>\n",
       "      <td>2.370000e+03</td>\n",
       "    </tr>\n",
       "    <tr>\n",
       "      <th>50%</th>\n",
       "      <td>5.910000e+02</td>\n",
       "      <td>1.100000e+02</td>\n",
       "      <td>3.777874e+01</td>\n",
       "      <td>-1.224001e+02</td>\n",
       "      <td>1.040000e+02</td>\n",
       "      <td>3.777877e+01</td>\n",
       "      <td>-1.223993e+02</td>\n",
       "      <td>1.014200e+04</td>\n",
       "    </tr>\n",
       "    <tr>\n",
       "      <th>75%</th>\n",
       "      <td>9.190000e+02</td>\n",
       "      <td>2.490000e+02</td>\n",
       "      <td>3.779413e+01</td>\n",
       "      <td>-1.223900e+02</td>\n",
       "      <td>2.450000e+02</td>\n",
       "      <td>3.779423e+01</td>\n",
       "      <td>-1.223900e+02</td>\n",
       "      <td>2.143300e+05</td>\n",
       "    </tr>\n",
       "    <tr>\n",
       "      <th>max</th>\n",
       "      <td>9.121100e+05</td>\n",
       "      <td>5.210000e+02</td>\n",
       "      <td>4.551000e+01</td>\n",
       "      <td>0.000000e+00</td>\n",
       "      <td>5.210000e+02</td>\n",
       "      <td>4.551000e+01</td>\n",
       "      <td>0.000000e+00</td>\n",
       "      <td>9.999600e+05</td>\n",
       "    </tr>\n",
       "  </tbody>\n",
       "</table>\n",
       "</div>"
      ],
      "text/plain": [
       "       duration_sec  start_station_id  start_station_latitude  \\\n",
       "count  2.541086e+06      1.974780e+06            2.541086e+06   \n",
       "mean   8.179592e+02      1.559452e+02            3.775680e+01   \n",
       "std    1.890798e+03      1.314966e+02            1.823561e-01   \n",
       "min    6.000000e+01      3.000000e+00            0.000000e+00   \n",
       "25%    3.710000e+02      5.000000e+01            3.776708e+01   \n",
       "50%    5.910000e+02      1.100000e+02            3.777874e+01   \n",
       "75%    9.190000e+02      2.490000e+02            3.779413e+01   \n",
       "max    9.121100e+05      5.210000e+02            4.551000e+01   \n",
       "\n",
       "       start_station_longitude  end_station_id  end_station_latitude  \\\n",
       "count             2.541086e+06    1.973132e+06          2.541086e+06   \n",
       "mean             -1.223507e+02    1.504767e+02          3.775600e+01   \n",
       "std               4.820733e-01    1.303568e+02          2.629458e-01   \n",
       "min              -1.225143e+02    3.000000e+00          0.000000e+00   \n",
       "25%              -1.224169e+02    4.300000e+01          3.776719e+01   \n",
       "50%              -1.224001e+02    1.040000e+02          3.777877e+01   \n",
       "75%              -1.223900e+02    2.450000e+02          3.779423e+01   \n",
       "max               0.000000e+00    5.210000e+02          4.551000e+01   \n",
       "\n",
       "       end_station_longitude       bike_id  \n",
       "count           2.541086e+06  2.541086e+06  \n",
       "mean           -1.223470e+02  1.490188e+05  \n",
       "std             7.805483e-01  2.592418e+05  \n",
       "min            -1.225758e+02  4.000000e+00  \n",
       "25%            -1.224148e+02  2.370000e+03  \n",
       "50%            -1.223993e+02  1.014200e+04  \n",
       "75%            -1.223900e+02  2.143300e+05  \n",
       "max             0.000000e+00  9.999600e+05  "
      ]
     },
     "execution_count": 13,
     "metadata": {},
     "output_type": "execute_result"
    }
   ],
   "source": [
    "df_baywheels.describe()"
   ]
  },
  {
   "cell_type": "markdown",
   "metadata": {},
   "source": [
    "#### Observations:\n",
    "- We can clearly see a difference in the dataset after the name was changed to Baywheels\n",
    "    - Where the main difference is missing of **member birth year** and **member gender** from the baywheels dataset\n",
    "- We can also see there are missing values in the columns: **bike_share_for_all_trip** and **rental_access_method**"
   ]
  },
  {
   "cell_type": "markdown",
   "metadata": {},
   "source": [
    "<a id='clean'></a>\n",
    "\n",
    "## Cleaning and Merging the Data of Go Ford bike and Baywheels datasets\n",
    "\n",
    "As we can see the data os already pretty clean, we will just have to make few adjustments."
   ]
  },
  {
   "cell_type": "code",
   "execution_count": null,
   "metadata": {},
   "outputs": [],
   "source": [
    "#Congregating all the Ford Go Bike and baywheel datasets\n",
    "combine_df = []\n",
    "combine_df.append(pd.read_csv('lyft-data/fordgobike/fordgobike-combined.csv'))\n",
    "combine_df.append(pd.read_csv('lyft-data/baywheels/baywheels-combined_1.csv'))   "
   ]
  },
  {
   "cell_type": "code",
   "execution_count": null,
   "metadata": {},
   "outputs": [],
   "source": [
    "#Combining the datasets together into a single dataframe\n",
    "combined_df_1 = pd.concat(combine_df, sort=False)"
   ]
  },
  {
   "cell_type": "code",
   "execution_count": null,
   "metadata": {},
   "outputs": [],
   "source": [
    "#Saving combined dataframe into a new file \n",
    "combined_df_1.to_csv('lyft-data/lyft-combined-data.csv', index = False)"
   ]
  },
  {
   "cell_type": "code",
   "execution_count": 14,
   "metadata": {},
   "outputs": [
    {
     "name": "stderr",
     "output_type": "stream",
     "text": [
      "/opt/anaconda3/lib/python3.7/site-packages/IPython/core/interactiveshell.py:3063: DtypeWarning: Columns (14,15,16) have mixed types.Specify dtype option on import or set low_memory=False.\n",
      "  interactivity=interactivity, compiler=compiler, result=result)\n"
     ]
    }
   ],
   "source": [
    "#Creating the dataframe after combining all dataset \n",
    "df_lyft = pd.read_csv('lyft-data/lyft-combined-data.csv')"
   ]
  },
  {
   "cell_type": "code",
   "execution_count": 15,
   "metadata": {},
   "outputs": [
    {
     "data": {
      "text/html": [
       "<div>\n",
       "<style scoped>\n",
       "    .dataframe tbody tr th:only-of-type {\n",
       "        vertical-align: middle;\n",
       "    }\n",
       "\n",
       "    .dataframe tbody tr th {\n",
       "        vertical-align: top;\n",
       "    }\n",
       "\n",
       "    .dataframe thead th {\n",
       "        text-align: right;\n",
       "    }\n",
       "</style>\n",
       "<table border=\"1\" class=\"dataframe\">\n",
       "  <thead>\n",
       "    <tr style=\"text-align: right;\">\n",
       "      <th></th>\n",
       "      <th>duration_sec</th>\n",
       "      <th>start_time</th>\n",
       "      <th>end_time</th>\n",
       "      <th>start_station_id</th>\n",
       "      <th>start_station_name</th>\n",
       "      <th>start_station_latitude</th>\n",
       "      <th>start_station_longitude</th>\n",
       "      <th>end_station_id</th>\n",
       "      <th>end_station_name</th>\n",
       "      <th>end_station_latitude</th>\n",
       "      <th>end_station_longitude</th>\n",
       "      <th>bike_id</th>\n",
       "      <th>user_type</th>\n",
       "      <th>member_birth_year</th>\n",
       "      <th>member_gender</th>\n",
       "      <th>bike_share_for_all_trip</th>\n",
       "      <th>rental_access_method</th>\n",
       "    </tr>\n",
       "  </thead>\n",
       "  <tbody>\n",
       "    <tr>\n",
       "      <th>0</th>\n",
       "      <td>598</td>\n",
       "      <td>2018-02-28 23:59:47.0970</td>\n",
       "      <td>2018-03-01 00:09:45.1870</td>\n",
       "      <td>284.0</td>\n",
       "      <td>Yerba Buena Center for the Arts (Howard St at ...</td>\n",
       "      <td>37.784872</td>\n",
       "      <td>-122.400876</td>\n",
       "      <td>114.0</td>\n",
       "      <td>Rhode Island St at 17th St</td>\n",
       "      <td>37.764478</td>\n",
       "      <td>-122.402570</td>\n",
       "      <td>1035</td>\n",
       "      <td>Subscriber</td>\n",
       "      <td>1988.0</td>\n",
       "      <td>Male</td>\n",
       "      <td>No</td>\n",
       "      <td>NaN</td>\n",
       "    </tr>\n",
       "    <tr>\n",
       "      <th>1</th>\n",
       "      <td>943</td>\n",
       "      <td>2018-02-28 23:21:16.4950</td>\n",
       "      <td>2018-02-28 23:36:59.9740</td>\n",
       "      <td>6.0</td>\n",
       "      <td>The Embarcadero at Sansome St</td>\n",
       "      <td>37.804770</td>\n",
       "      <td>-122.403234</td>\n",
       "      <td>324.0</td>\n",
       "      <td>Union Square (Powell St at Post St)</td>\n",
       "      <td>37.788300</td>\n",
       "      <td>-122.408531</td>\n",
       "      <td>1673</td>\n",
       "      <td>Customer</td>\n",
       "      <td>1987.0</td>\n",
       "      <td>Male</td>\n",
       "      <td>No</td>\n",
       "      <td>NaN</td>\n",
       "    </tr>\n",
       "    <tr>\n",
       "      <th>2</th>\n",
       "      <td>18587</td>\n",
       "      <td>2018-02-28 18:20:55.1900</td>\n",
       "      <td>2018-02-28 23:30:42.9250</td>\n",
       "      <td>93.0</td>\n",
       "      <td>4th St at Mission Bay Blvd S</td>\n",
       "      <td>37.770407</td>\n",
       "      <td>-122.391198</td>\n",
       "      <td>15.0</td>\n",
       "      <td>San Francisco Ferry Building (Harry Bridges Pl...</td>\n",
       "      <td>37.795392</td>\n",
       "      <td>-122.394203</td>\n",
       "      <td>3498</td>\n",
       "      <td>Customer</td>\n",
       "      <td>1986.0</td>\n",
       "      <td>Female</td>\n",
       "      <td>No</td>\n",
       "      <td>NaN</td>\n",
       "    </tr>\n",
       "    <tr>\n",
       "      <th>3</th>\n",
       "      <td>18558</td>\n",
       "      <td>2018-02-28 18:20:53.6210</td>\n",
       "      <td>2018-02-28 23:30:12.4500</td>\n",
       "      <td>93.0</td>\n",
       "      <td>4th St at Mission Bay Blvd S</td>\n",
       "      <td>37.770407</td>\n",
       "      <td>-122.391198</td>\n",
       "      <td>15.0</td>\n",
       "      <td>San Francisco Ferry Building (Harry Bridges Pl...</td>\n",
       "      <td>37.795392</td>\n",
       "      <td>-122.394203</td>\n",
       "      <td>3129</td>\n",
       "      <td>Customer</td>\n",
       "      <td>1981.0</td>\n",
       "      <td>Male</td>\n",
       "      <td>No</td>\n",
       "      <td>NaN</td>\n",
       "    </tr>\n",
       "    <tr>\n",
       "      <th>4</th>\n",
       "      <td>885</td>\n",
       "      <td>2018-02-28 23:15:12.8580</td>\n",
       "      <td>2018-02-28 23:29:58.6080</td>\n",
       "      <td>308.0</td>\n",
       "      <td>San Pedro Square</td>\n",
       "      <td>37.336802</td>\n",
       "      <td>-121.894090</td>\n",
       "      <td>297.0</td>\n",
       "      <td>Locust St at Grant St</td>\n",
       "      <td>37.322980</td>\n",
       "      <td>-121.887931</td>\n",
       "      <td>1839</td>\n",
       "      <td>Subscriber</td>\n",
       "      <td>1976.0</td>\n",
       "      <td>Female</td>\n",
       "      <td>Yes</td>\n",
       "      <td>NaN</td>\n",
       "    </tr>\n",
       "  </tbody>\n",
       "</table>\n",
       "</div>"
      ],
      "text/plain": [
       "   duration_sec                start_time                  end_time  \\\n",
       "0           598  2018-02-28 23:59:47.0970  2018-03-01 00:09:45.1870   \n",
       "1           943  2018-02-28 23:21:16.4950  2018-02-28 23:36:59.9740   \n",
       "2         18587  2018-02-28 18:20:55.1900  2018-02-28 23:30:42.9250   \n",
       "3         18558  2018-02-28 18:20:53.6210  2018-02-28 23:30:12.4500   \n",
       "4           885  2018-02-28 23:15:12.8580  2018-02-28 23:29:58.6080   \n",
       "\n",
       "   start_station_id                                 start_station_name  \\\n",
       "0             284.0  Yerba Buena Center for the Arts (Howard St at ...   \n",
       "1               6.0                      The Embarcadero at Sansome St   \n",
       "2              93.0                       4th St at Mission Bay Blvd S   \n",
       "3              93.0                       4th St at Mission Bay Blvd S   \n",
       "4             308.0                                   San Pedro Square   \n",
       "\n",
       "   start_station_latitude  start_station_longitude  end_station_id  \\\n",
       "0               37.784872              -122.400876           114.0   \n",
       "1               37.804770              -122.403234           324.0   \n",
       "2               37.770407              -122.391198            15.0   \n",
       "3               37.770407              -122.391198            15.0   \n",
       "4               37.336802              -121.894090           297.0   \n",
       "\n",
       "                                    end_station_name  end_station_latitude  \\\n",
       "0                         Rhode Island St at 17th St             37.764478   \n",
       "1                Union Square (Powell St at Post St)             37.788300   \n",
       "2  San Francisco Ferry Building (Harry Bridges Pl...             37.795392   \n",
       "3  San Francisco Ferry Building (Harry Bridges Pl...             37.795392   \n",
       "4                              Locust St at Grant St             37.322980   \n",
       "\n",
       "   end_station_longitude  bike_id   user_type  member_birth_year  \\\n",
       "0            -122.402570     1035  Subscriber             1988.0   \n",
       "1            -122.408531     1673    Customer             1987.0   \n",
       "2            -122.394203     3498    Customer             1986.0   \n",
       "3            -122.394203     3129    Customer             1981.0   \n",
       "4            -121.887931     1839  Subscriber             1976.0   \n",
       "\n",
       "  member_gender bike_share_for_all_trip rental_access_method  \n",
       "0          Male                      No                  NaN  \n",
       "1          Male                      No                  NaN  \n",
       "2        Female                      No                  NaN  \n",
       "3          Male                      No                  NaN  \n",
       "4        Female                     Yes                  NaN  "
      ]
     },
     "execution_count": 15,
     "metadata": {},
     "output_type": "execute_result"
    }
   ],
   "source": [
    "df_lyft.head()"
   ]
  },
  {
   "cell_type": "code",
   "execution_count": 16,
   "metadata": {},
   "outputs": [
    {
     "data": {
      "text/plain": [
       "(5795411, 17)"
      ]
     },
     "execution_count": 16,
     "metadata": {},
     "output_type": "execute_result"
    }
   ],
   "source": [
    "df_lyft.shape"
   ]
  },
  {
   "cell_type": "code",
   "execution_count": 17,
   "metadata": {},
   "outputs": [
    {
     "name": "stdout",
     "output_type": "stream",
     "text": [
      "<class 'pandas.core.frame.DataFrame'>\n",
      "RangeIndex: 5795411 entries, 0 to 5795410\n",
      "Data columns (total 17 columns):\n",
      " #   Column                   Dtype  \n",
      "---  ------                   -----  \n",
      " 0   duration_sec             int64  \n",
      " 1   start_time               object \n",
      " 2   end_time                 object \n",
      " 3   start_station_id         float64\n",
      " 4   start_station_name       object \n",
      " 5   start_station_latitude   float64\n",
      " 6   start_station_longitude  float64\n",
      " 7   end_station_id           float64\n",
      " 8   end_station_name         object \n",
      " 9   end_station_latitude     float64\n",
      " 10  end_station_longitude    float64\n",
      " 11  bike_id                  int64  \n",
      " 12  user_type                object \n",
      " 13  member_birth_year        float64\n",
      " 14  member_gender            object \n",
      " 15  bike_share_for_all_trip  object \n",
      " 16  rental_access_method     object \n",
      "dtypes: float64(7), int64(2), object(8)\n",
      "memory usage: 751.7+ MB\n"
     ]
    }
   ],
   "source": [
    "df_lyft.info()"
   ]
  },
  {
   "cell_type": "markdown",
   "metadata": {},
   "source": [
    "#### Converting the 'start_time' and 'end_time' fields to datetime\n",
    "\n",
    "The dataset gives us some good time stamps; however, they are provdied to us in a string format. Let's go ahead and convert them to the datetime format."
   ]
  },
  {
   "cell_type": "code",
   "execution_count": 18,
   "metadata": {},
   "outputs": [],
   "source": [
    "df_lyft['start_time'] = pd.to_datetime(df_lyft['start_time'])\n",
    "df_lyft['end_time'] = pd.to_datetime(df_lyft['end_time'])"
   ]
  },
  {
   "cell_type": "code",
   "execution_count": 19,
   "metadata": {},
   "outputs": [
    {
     "name": "stdout",
     "output_type": "stream",
     "text": [
      "<class 'pandas.core.frame.DataFrame'>\n",
      "RangeIndex: 5795411 entries, 0 to 5795410\n",
      "Data columns (total 2 columns):\n",
      " #   Column      Dtype         \n",
      "---  ------      -----         \n",
      " 0   start_time  datetime64[ns]\n",
      " 1   end_time    datetime64[ns]\n",
      "dtypes: datetime64[ns](2)\n",
      "memory usage: 88.4 MB\n"
     ]
    }
   ],
   "source": [
    "df_lyft[['start_time', 'end_time']].info()"
   ]
  },
  {
   "cell_type": "markdown",
   "metadata": {},
   "source": [
    "#### Adding a 'year-month' field\n",
    "\n",
    "Now that we've converted our fields above into the datetime format, we'll extract the year and month for each row into its own column, 'year-month.'\n"
   ]
  },
  {
   "cell_type": "code",
   "execution_count": 20,
   "metadata": {},
   "outputs": [],
   "source": [
    "df_lyft['year-month'] = pd.to_datetime(df_lyft['start_time']).dt.to_period('M')"
   ]
  },
  {
   "cell_type": "code",
   "execution_count": 21,
   "metadata": {},
   "outputs": [
    {
     "data": {
      "text/plain": [
       "3552733    2019-07\n",
       "2345223    2018-07\n",
       "1886505    2018-12\n",
       "2894752    2018-03\n",
       "2598708    2018-08\n",
       "Name: year-month, dtype: period[M]"
      ]
     },
     "execution_count": 21,
     "metadata": {},
     "output_type": "execute_result"
    }
   ],
   "source": [
    "df_lyft['year-month'].sample(5)"
   ]
  },
  {
   "cell_type": "markdown",
   "metadata": {},
   "source": [
    "#### Dropping Columns\n",
    "\n",
    "The following columns are being dropped for the following reasons:\n",
    "\n",
    " - **'start_station_id', 'start_station_latitude', and 'start_station_longitude'**: We'll keep start_station_name, but beyond the name, we don't have a much a use for the other fields.\n",
    " - **'end_station_id', 'end_station_latitude', and 'end_station_longitude'**: Same reason as the one above\n",
    " \n",
    " - **'member_gender' and 'member_birth_year'** from Ford Go bike data set, as they are not included in the dataset of baywheels data set\n",
    " - **'rental_access_method'** column from the baywheels data set as it is not available in the dataset of Ford Go Bike dataset"
   ]
  },
  {
   "cell_type": "code",
   "execution_count": 22,
   "metadata": {},
   "outputs": [],
   "source": [
    "columns_to_drop = ['start_station_id', 'start_station_latitude', 'start_station_longitude',\n",
    "                   'end_station_id', 'end_station_latitude', 'end_station_longitude','member_gender',\n",
    "                   'member_birth_year', 'rental_access_method' ]\n",
    "\n",
    "df_lyft.drop(columns = columns_to_drop, inplace = True)"
   ]
  },
  {
   "cell_type": "code",
   "execution_count": 23,
   "metadata": {},
   "outputs": [
    {
     "name": "stdout",
     "output_type": "stream",
     "text": [
      "<class 'pandas.core.frame.DataFrame'>\n",
      "RangeIndex: 5795411 entries, 0 to 5795410\n",
      "Data columns (total 9 columns):\n",
      " #   Column                   Dtype         \n",
      "---  ------                   -----         \n",
      " 0   duration_sec             int64         \n",
      " 1   start_time               datetime64[ns]\n",
      " 2   end_time                 datetime64[ns]\n",
      " 3   start_station_name       object        \n",
      " 4   end_station_name         object        \n",
      " 5   bike_id                  int64         \n",
      " 6   user_type                object        \n",
      " 7   bike_share_for_all_trip  object        \n",
      " 8   year-month               period[M]     \n",
      "dtypes: datetime64[ns](2), int64(2), object(4), period[M](1)\n",
      "memory usage: 397.9+ MB\n"
     ]
    }
   ],
   "source": [
    "df_lyft.info()"
   ]
  },
  {
   "cell_type": "code",
   "execution_count": 24,
   "metadata": {},
   "outputs": [],
   "source": [
    "df_lyft['bike_share_for_all_trip'].fillna('None', inplace = True)\n"
   ]
  },
  {
   "cell_type": "code",
   "execution_count": 25,
   "metadata": {},
   "outputs": [
    {
     "data": {
      "text/plain": [
       "array(['No', 'Yes', 'None'], dtype=object)"
      ]
     },
     "execution_count": 25,
     "metadata": {},
     "output_type": "execute_result"
    }
   ],
   "source": [
    "df_lyft['bike_share_for_all_trip'].unique()"
   ]
  },
  {
   "cell_type": "markdown",
   "metadata": {},
   "source": [
    "### Saving Clean Master Dataset\n",
    "\n",
    "Now that we've finished our cleaning, let's save it into a master dataset for later use."
   ]
  },
  {
   "cell_type": "code",
   "execution_count": 26,
   "metadata": {},
   "outputs": [],
   "source": [
    "#Saving the clean master dataset\n",
    "df_lyft.to_csv('lyft-data/lyft-master.csv', index = False)"
   ]
  },
  {
   "cell_type": "code",
   "execution_count": 2,
   "metadata": {},
   "outputs": [],
   "source": [
    "#Rebuilding our dataframe from the master CSV file\n",
    "df_lyft = pd.read_csv('lyft-data/lyft-master.csv')"
   ]
  },
  {
   "cell_type": "markdown",
   "metadata": {},
   "source": [
    "<a id='uni'></a>\n",
    "\n",
    "## Univariate Exploration\n",
    "\n",
    "Let's begin by looking at a handful of univariate visualizations in this section of the notebook."
   ]
  },
  {
   "cell_type": "markdown",
   "metadata": {},
   "source": [
    "#### How long are people riding these bikes?\n",
    "\n",
    "In this first analysis, we see a distribution of how long people are using these bikes in seconds. Because some outliers on the high end extremely skewed the data, I set a top limit of 2000 seconds. It's still right-skewed here, but at least we can see that the peak usage falls in that 250 - 750 second range, or more precisely, about 275 seconds. This is about ~4.5 minutes, so generally speaking, people are using these bikes for quick rides."
   ]
  },
  {
   "cell_type": "code",
   "execution_count": 3,
   "metadata": {},
   "outputs": [
    {
     "data": {
      "image/png": "[encoded data removed]",
      "text/plain": [
       "<Figure size 432x288 with 1 Axes>"
      ]
     },
     "metadata": {
      "needs_background": "light"
     },
     "output_type": "display_data"
    }
   ],
   "source": [
    "#Visualizing the data in a histogram\n",
    "duration_bins = np.arange(0, df_lyft['duration_sec'].max() + 100, 100)\n",
    "plt.hist(data = df_lyft, x = 'duration_sec', bins = duration_bins);\n",
    "\n",
    "plt.xlim(0, 2000);\n",
    "plt.style.use('seaborn')\n",
    "plt.title('Average Duration of Bike Rides', fontsize = 18);\n",
    "plt.xlabel('Duration of Rides in Seconds');\n",
    "plt.ylabel('Number of Rides');\n",
    "plt.style.use('seaborn');"
   ]
  },
  {
   "cell_type": "code",
   "execution_count": 4,
   "metadata": {},
   "outputs": [],
   "source": [
    "#Creating dataframe 'gobike_df_membersonly' to only reflect records that contain age values\n",
    "df_lyft_membersonly = df_lyft.dropna()"
   ]
  },
  {
   "cell_type": "markdown",
   "metadata": {},
   "source": [
    "#### How many members vs. non-members do we have?\n",
    "\n",
    "As noted in the previous visualization, not all people are members of this Ford GoBike program. Let's do a quick analysis of number of members vs. number of non-members. We'll do this in both an absolute count form and relative frequency form. In this, we get a clear picture that there are definitely far more members than non-members."
   ]
  },
  {
   "cell_type": "code",
   "execution_count": 5,
   "metadata": {},
   "outputs": [
    {
     "name": "stdout",
     "output_type": "stream",
     "text": [
      "Number of members: 5126330\n",
      "Number of non-members: 669081\n"
     ]
    }
   ],
   "source": [
    "#Determining number of members and non-members\n",
    "n_members = df_lyft_membersonly.shape[0]\n",
    "n_nonmembers = df_lyft.shape[0] - n_members\n",
    "print('Number of members: {}'.format(n_members))\n",
    "print('Number of non-members: {}'.format(n_nonmembers))"
   ]
  },
  {
   "cell_type": "code",
   "execution_count": 6,
   "metadata": {},
   "outputs": [
    {
     "data": {
      "image/png": "[encoded data removed]",
      "text/plain": [
       "<Figure size 576x396 with 1 Axes>"
      ]
     },
     "metadata": {},
     "output_type": "display_data"
    }
   ],
   "source": [
    "#Visualizing number of members vs. non-members in a pure count form\n",
    "plt.bar(x = ['Members', 'Non-Members'], height = [n_members, n_nonmembers]);\n",
    "plt.title('Number of Members vs. Non-Members', fontsize = 18);\n",
    "plt.ylabel('Member Count');\n",
    "plt.style.use('seaborn')"
   ]
  },
  {
   "cell_type": "code",
   "execution_count": 7,
   "metadata": {},
   "outputs": [
    {
     "name": "stdout",
     "output_type": "stream",
     "text": [
      "Ratio of members: 0.8845498619511196\n",
      "Ratio of non-members: 0.1154501380488804\n"
     ]
    }
   ],
   "source": [
    "#Determining ratios of members vs. non-members\n",
    "member_percentage = n_members / df_lyft.shape[0]\n",
    "nonmember_percentage = n_nonmembers / df_lyft.shape[0]\n",
    "print('Ratio of members: {}'.format(member_percentage))\n",
    "print('Ratio of non-members: {}'.format(nonmember_percentage))"
   ]
  },
  {
   "cell_type": "code",
   "execution_count": 8,
   "metadata": {},
   "outputs": [
    {
     "data": {
      "image/png": "[encoded data removed]",
      "text/plain": [
       "<Figure size 576x396 with 1 Axes>"
      ]
     },
     "metadata": {},
     "output_type": "display_data"
    }
   ],
   "source": [
    "#Visualizing ratios of members vs. non-members\n",
    "plt.bar(x = ['Members', 'Non-Members'], height = [member_percentage, nonmember_percentage]);\n",
    "plt.title('Ratio of Members vs. Non-Members', fontsize = 18);\n",
    "plt.ylabel('Ratio');\n",
    "plt.ylim(0,1);\n",
    "plt.style.use('seaborn')"
   ]
  },
  {
   "cell_type": "markdown",
   "metadata": {},
   "source": [
    "#### Number of Rides Per Month\n",
    "\n",
    "And to wrap up this section, I'm curious to see if rides have generally gone up over time. Because my laptop had a difficult time chugging through the full dataset, I took a sample of 100000 records. I ran this a couple of times, and this general visualization appeared every time. What we find is that typically there are a larger number of rides in the summer than there are in the winter months."
   ]
  },
  {
   "cell_type": "code",
   "execution_count": 9,
   "metadata": {},
   "outputs": [
    {
     "data": {
      "image/png": "[encoded data removed]",
      "text/plain": [
       "<Figure size 1080x504 with 1 Axes>"
      ]
     },
     "metadata": {},
     "output_type": "display_data"
    }
   ],
   "source": [
    "#Visualizing the data with a sample of 100000 records\n",
    "plt.figure(figsize = (15, 7))\n",
    "base_color = sb.color_palette()[0]\n",
    "df_lyft_samp = df_lyft.sample(100000)\n",
    "sb.countplot(data = df_lyft_samp.sort_values(by='year-month'), x = 'year-month', color = base_color);\n",
    "plt.title('Number of Rides Per Month', fontsize = 18);\n",
    "plt.xlabel('Year-Month')\n",
    "plt.ylabel('Number of Rides')\n",
    "plt.xticks(rotation = 90);\n",
    "plt.style.use('seaborn')"
   ]
  },
  {
   "cell_type": "markdown",
   "metadata": {},
   "source": [
    "<a id='bi'></a>\n",
    "## Bivariate Exploration\n",
    "\n",
    "Now that we've taken a look at some univariate explorations, let's take a look at some bivariate visualizations."
   ]
  },
  {
   "cell_type": "markdown",
   "metadata": {},
   "source": [
    "#### Do people tend to take longer rides given the month of the year?\n",
    "\n",
    "Living in the Midwest, I know that bike sharing would significantly decline in colder months. I'm curious if the same holds true even in these warmer climates. And interestingly enough, the data seems to verify that that holds true even for California!"
   ]
  },
  {
   "cell_type": "code",
   "execution_count": null,
   "metadata": {},
   "outputs": [],
   "source": [
    "#Visualizing the data in a point plot\n",
    "plt.figure(figsize = (15, 7))\n",
    "sb.pointplot(data = df_lyft_membersonly.sort_values(by='year-month'), x = 'year-month', y = 'duration_sec');\n",
    "plt.xticks(rotation = 90);\n",
    "plt.title('Average Ride Time Per Month', fontsize = 18);\n",
    "plt.ylabel('Average Duration in Seconds');\n",
    "plt.xlabel('Year-Month');\n",
    "plt.style.use('seaborn')"
   ]
  },
  {
   "cell_type": "markdown",
   "metadata": {},
   "source": [
    "#### How long did people ride bikes from the five most frequently visited stations?\n",
    "From the five most frequently visited places to start a bike ride, I was curious to see how long these bike rides tended to last. What I found, sort of unsurprisingly, is they all landed around that average ride time of about 600 seconds. What is interesting, however, is that the distribution is a fair bit wider for the fifth station listed, San Franscisco Ferry Building. Not living in San Franscisco myself, it's hard to tell why that is, but I'm sure locals might have some insight onto why that may be."
   ]
  },
  {
   "cell_type": "code",
   "execution_count": null,
   "metadata": {},
   "outputs": [],
   "source": [
    "#Figuring out which stations are the ones most frequently visited and building a dataframe off of them\n",
    "top_starts = df_lyft['start_station_name'].value_counts().index[:5]\n",
    "df_lyft_stations = df_lyft.loc[df_lyft['start_station_name'].isin(top_starts)]"
   ]
  },
  {
   "cell_type": "code",
   "execution_count": null,
   "metadata": {},
   "outputs": [],
   "source": [
    "#Visualizing the data in a boxplot\n",
    "base_color = sb.color_palette()[0]\n",
    "plt.figure(figsize = (15,7))\n",
    "sb.boxplot(data = df_lyft_stations, x = 'start_station_name', y = 'duration_sec', color = base_color);\n",
    "plt.xticks(rotation = 45);\n",
    "plt.ylim(0, 2500);\n",
    "plt.title('Duration of Bike Rides from Top 5 Visited Stations', fontsize = 18);\n",
    "plt.xlabel('Station Names');\n",
    "plt.ylabel('Duration of Rides')\n",
    "\n",
    "plt.style.use('seaborn')"
   ]
  },
  {
   "cell_type": "markdown",
   "metadata": {},
   "source": [
    "<a id='multi'></a>\n",
    "## Multivariate Exploration\n",
    "\n",
    "Finally, let's wrap up this notebook with a multivariate explorations."
   ]
  },
  {
   "cell_type": "markdown",
   "metadata": {},
   "source": [
    "#### Which type of user tends to take  longer rides in a specific month.\n",
    "\n",
    "In this next visualization, we'll use some user type distinctive markers to determine how long rides tend to be across the user type. Not surprisingly, the durations for the subscriber shows that they are tend to take longer rides."
   ]
  },
  {
   "cell_type": "code",
   "execution_count": null,
   "metadata": {},
   "outputs": [],
   "source": [
    "#Visualizing the data in an adapted scatterplot with a sample size of 250000 records\n",
    "df_lyft_mo_samp = df_lyft_membersonly.sample(250000)\n",
    "\n",
    "plt.figure(figsize = (15,7))\n",
    "\n",
    "cat_markers = [['Subscriber', 's'],\n",
    "               ['Customer', '^']]\n",
    "\n",
    "for cat, marker in cat_markers:\n",
    "    df_user_type = df_lyft_mo_samp[df_lyft_mo_samp['user_type'] == cat]\n",
    "    plt.scatter(data = df_user_type, x = 'year-month', y = 'duration_sec', marker = marker, alpha = .5);\n",
    "plt.legend(['Subscriber', 'Customer']);\n",
    "plt.xticks(rotation = 90);\n",
    "plt.ylim(0, 50000);\n",
    "plt.title('Comparing Ride Duration Across Year-Months and User_type', fontsize = 18);\n",
    "plt.xlabel('Year-Month');\n",
    "plt.ylabel('Number of Rides');\n",
    "plt.style.use('seaborn')"
   ]
  },
  {
   "cell_type": "code",
   "execution_count": null,
   "metadata": {},
   "outputs": [],
   "source": []
  },
  {
   "cell_type": "code",
   "execution_count": null,
   "metadata": {},
   "outputs": [],
   "source": []
  },
  {
   "cell_type": "code",
   "execution_count": null,
   "metadata": {},
   "outputs": [],
   "source": []
  }
 ],
 "metadata": {
  "kernelspec": {
   "display_name": "Python 3",
   "language": "python",
   "name": "python3"
  },
  "language_info": {
   "codemirror_mode": {
    "name": "ipython",
    "version": 3
   },
   "file_extension": ".py",
   "mimetype": "text/x-python",
   "name": "python",
   "nbconvert_exporter": "python",
   "pygments_lexer": "ipython3",
   "version": "3.7.6"
  }
 },
 "nbformat": 4,
 "nbformat_minor": 2
}
